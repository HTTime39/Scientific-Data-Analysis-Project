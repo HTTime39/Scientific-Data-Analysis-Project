{
 "cells": [
  {
   "cell_type": "markdown",
   "metadata": {},
   "source": [
    "# My Project Title\n",
    "\n",
    "## Introduction\n",
    "I will analyze some life style and academic habits and how they may impact a student's final exam score."
   ]
  },
  {
   "cell_type": "markdown",
   "metadata": {},
   "source": [
    "## Analysis\n",
    "### Importing\n",
    "I imported the data from a CSV file that I downloaded from Kaggle. It contains various pieces of information regarding factors that may impact the success of a student on a course's final evaluation. Each row represents a different student participating a course, and each column has different information about the students, one of which is the final exam score for the course the student is taking. "
   ]
  },
  {
   "cell_type": "code",
   "execution_count": 1,
   "metadata": {},
   "outputs": [],
   "source": [
    "import numpy as np\n",
    "import pandas as pd\n",
    "import seaborn as sns\n",
    "\n",
    "data = pd.read_csv(\"StudentPerformanceFactors.csv\")\n",
    "# Creating a data frame using the data set imported from the StudentPerformanceFactors.csv file, and assigning it to a variable called 'data'"
   ]
  },
  {
   "cell_type": "markdown",
   "metadata": {},
   "source": [
    "### Cleaning Data and Manipulation\n",
    "The data set didn't have any missing values so I didn't have to clean any missing values out of the dataset. There is a lot of extra columns that I won't need for my analysis so I'll remove them from the data frame that I'm working with. I've decided to explore the relationship between previous exam scores and motivation level, as well as how the two impact final exam scores."
   ]
  },
  {
   "cell_type": "code",
   "execution_count": 2,
   "metadata": {},
   "outputs": [],
   "source": [
    "data = data.reindex(['Previous_Scores','Motivation_Level','Exam_Score'],axis=1)\n",
    "# Removing unneeded columns and reording them\n",
    "data.columns = ['Previous Score', 'Motivation Level', 'Exam Score']\n",
    "# Renaming the columns to have cleaner names\n"
   ]
  },
  {
   "cell_type": "markdown",
   "metadata": {},
   "source": [
    "#### *About the Columns*\n",
    "- **Previous Scores** is the score a student received on a previous exam\n",
    "- **Motivation Level** is how motivated a student felt to work in the course described by Low/Medium/High\n",
    "- **Exam Score** is the score the student received on a final exam"
   ]
  },
  {
   "cell_type": "markdown",
   "metadata": {},
   "source": [
    "I'd like to add a columns to the dataframe that contain what percentage range [50-59,60-69,70-79,80-89,90-100] each student's previous and curent exam score falls into. This way, I can more easily display my data grouped into percentage ranges later on, rather than have bars for every unique score.\n",
    "<br>\n",
    "- **Previous Score Grouping** percentage grouping of previous exam score\n",
    "- **Exam Score Grouping** percentage grouping of final exam score"
   ]
  },
  {
   "cell_type": "code",
   "execution_count": 3,
   "metadata": {},
   "outputs": [
    {
     "data": {
      "text/html": [
       "<div>\n",
       "<style scoped>\n",
       "    .dataframe tbody tr th:only-of-type {\n",
       "        vertical-align: middle;\n",
       "    }\n",
       "\n",
       "    .dataframe tbody tr th {\n",
       "        vertical-align: top;\n",
       "    }\n",
       "\n",
       "    .dataframe thead th {\n",
       "        text-align: right;\n",
       "    }\n",
       "</style>\n",
       "<table border=\"1\" class=\"dataframe\">\n",
       "  <thead>\n",
       "    <tr style=\"text-align: right;\">\n",
       "      <th></th>\n",
       "      <th>Previous Score</th>\n",
       "      <th>Motivation Level</th>\n",
       "      <th>Exam Score</th>\n",
       "      <th>Previous Score Grouping</th>\n",
       "      <th>Exam Score Grouping</th>\n",
       "    </tr>\n",
       "  </thead>\n",
       "  <tbody>\n",
       "    <tr>\n",
       "      <th>0</th>\n",
       "      <td>73</td>\n",
       "      <td>Low</td>\n",
       "      <td>67</td>\n",
       "      <td>70</td>\n",
       "      <td>60</td>\n",
       "    </tr>\n",
       "    <tr>\n",
       "      <th>1</th>\n",
       "      <td>59</td>\n",
       "      <td>Low</td>\n",
       "      <td>61</td>\n",
       "      <td>50</td>\n",
       "      <td>60</td>\n",
       "    </tr>\n",
       "    <tr>\n",
       "      <th>2</th>\n",
       "      <td>91</td>\n",
       "      <td>Medium</td>\n",
       "      <td>74</td>\n",
       "      <td>90</td>\n",
       "      <td>70</td>\n",
       "    </tr>\n",
       "    <tr>\n",
       "      <th>3</th>\n",
       "      <td>98</td>\n",
       "      <td>Medium</td>\n",
       "      <td>71</td>\n",
       "      <td>90</td>\n",
       "      <td>70</td>\n",
       "    </tr>\n",
       "    <tr>\n",
       "      <th>4</th>\n",
       "      <td>65</td>\n",
       "      <td>Medium</td>\n",
       "      <td>70</td>\n",
       "      <td>60</td>\n",
       "      <td>70</td>\n",
       "    </tr>\n",
       "    <tr>\n",
       "      <th>...</th>\n",
       "      <td>...</td>\n",
       "      <td>...</td>\n",
       "      <td>...</td>\n",
       "      <td>...</td>\n",
       "      <td>...</td>\n",
       "    </tr>\n",
       "    <tr>\n",
       "      <th>6602</th>\n",
       "      <td>76</td>\n",
       "      <td>Medium</td>\n",
       "      <td>68</td>\n",
       "      <td>70</td>\n",
       "      <td>60</td>\n",
       "    </tr>\n",
       "    <tr>\n",
       "      <th>6603</th>\n",
       "      <td>81</td>\n",
       "      <td>Medium</td>\n",
       "      <td>69</td>\n",
       "      <td>80</td>\n",
       "      <td>60</td>\n",
       "    </tr>\n",
       "    <tr>\n",
       "      <th>6604</th>\n",
       "      <td>65</td>\n",
       "      <td>Low</td>\n",
       "      <td>68</td>\n",
       "      <td>60</td>\n",
       "      <td>60</td>\n",
       "    </tr>\n",
       "    <tr>\n",
       "      <th>6605</th>\n",
       "      <td>91</td>\n",
       "      <td>High</td>\n",
       "      <td>68</td>\n",
       "      <td>90</td>\n",
       "      <td>60</td>\n",
       "    </tr>\n",
       "    <tr>\n",
       "      <th>6606</th>\n",
       "      <td>94</td>\n",
       "      <td>Medium</td>\n",
       "      <td>64</td>\n",
       "      <td>90</td>\n",
       "      <td>60</td>\n",
       "    </tr>\n",
       "  </tbody>\n",
       "</table>\n",
       "<p>6607 rows × 5 columns</p>\n",
       "</div>"
      ],
      "text/plain": [
       "      Previous Score Motivation Level  Exam Score  Previous Score Grouping  \\\n",
       "0                 73              Low          67                       70   \n",
       "1                 59              Low          61                       50   \n",
       "2                 91           Medium          74                       90   \n",
       "3                 98           Medium          71                       90   \n",
       "4                 65           Medium          70                       60   \n",
       "...              ...              ...         ...                      ...   \n",
       "6602              76           Medium          68                       70   \n",
       "6603              81           Medium          69                       80   \n",
       "6604              65              Low          68                       60   \n",
       "6605              91             High          68                       90   \n",
       "6606              94           Medium          64                       90   \n",
       "\n",
       "      Exam Score Grouping  \n",
       "0                      60  \n",
       "1                      60  \n",
       "2                      70  \n",
       "3                      70  \n",
       "4                      70  \n",
       "...                   ...  \n",
       "6602                   60  \n",
       "6603                   60  \n",
       "6604                   60  \n",
       "6605                   60  \n",
       "6606                   60  \n",
       "\n",
       "[6607 rows x 5 columns]"
      ]
     },
     "metadata": {},
     "output_type": "display_data"
    }
   ],
   "source": [
    "\n",
    "data['Previous Score Grouping'] = (data.loc[:]['Previous Score'] // 10) * 10\n",
    "# Creating a new column that contains the percentage grouping that the student's previous exam score falls into\n",
    "data['Exam Score Grouping'] = (data.loc[:]['Exam Score'] // 10) * 10\n",
    "# Creating a new column that contains the percentage grouping that the student's exam score falls into\n",
    "display(data)"
   ]
  },
  {
   "cell_type": "markdown",
   "metadata": {},
   "source": [
    "### Exploratory Data Analysis\n",
    "Now that the data is simplified and ready to work with, I can start by exploring a relationship between a student's previous exam score and their current motivation level for their course.\n",
    "\n",
    "#### *Exploring a Relationship Between Previous Exam Score and Student Motivation*\n",
    "First I'll generate a bar graph to depict how many students fell into each motivation category. Each motivation category is further broken down to count how many students are within each previous exam score grouping."
   ]
  },
  {
   "cell_type": "code",
   "execution_count": null,
   "metadata": {},
   "outputs": [
    {
     "data": {
      "text/plain": [
       "<Axes: title={'center': 'Distribution of Motivation Levels of Students'}, xlabel='Motivation Level', ylabel='Count'>"
      ]
     },
     "metadata": {},
     "output_type": "display_data"
    },
    {
     "data": {
      "image/png": "[encoded data removed]",
      "text/plain": [
       "<Figure size 640x480 with 1 Axes>"
      ]
     },
     "metadata": {},
     "output_type": "display_data"
    }
   ],
   "source": [
    "motivationCountPlot = sns.countplot(data=data, x='Motivation Level', \n",
    "                                    palette=['#eb3434','#eb7a34','#ebc034','#d3eb34','#86eb34','#4ceb34'], \n",
    "                                    edgecolor='black', \n",
    "                                    hue='Previous Score Grouping')\n",
    "motivationCountPlot.set(ylabel='Count',\n",
    "                        title='Distribution of Motivation Levels of Students')\n",
    "# Generating a bar graph showing how many students are in each motivation category\n",
    "# I've also styled the graph to have a title, correct y-axis title, as well as colours to help visually distinguish between the score groupings\n",
    "display(motivationCountPlot)"
   ]
  },
  {
   "cell_type": "markdown",
   "metadata": {},
   "source": [
    "The graph shows us that most of the students that got 100 on the previous exam fall into the low and medium effory categories. This might imply that students that are exceptionally succeeding in the previous exam may already know the course content and that they do not need to put a lot of effort into relearning it. It may also be that case that these students feel they can put this course \"on the backburner\" and focus on other courses because they have already achieved the minimum grade to pass the course with the result of the previous exam. \n",
    "<br><br>\n",
    "The other previous score groupings seem to be spread very similarly to each other without an obvious pattern among the motivation levels. This seems to imply that for this population of students, there is not really a sweeping relationship between the previous score a student earned and their current motivation level.\n",
    "<br><br>\n",
    "I had initially expected to find that students that previously received a low score would tend to have a high motivation to complete the course work to help ensure that they passed, and that students that previously received a high score would have a low or medium level of motivation to complete course work since their exam score implies that they are understanding the course content well. \n",
    "\n",
    "#### *Looking More Specifically at the Students in the 50% Previous Score Grouping*\n"
   ]
  },
  {
   "cell_type": "code",
   "execution_count": null,
   "metadata": {},
   "outputs": [],
   "source": []
  }
 ],
 "metadata": {
  "kernelspec": {
   "display_name": "base",
   "language": "python",
   "name": "python3"
  },
  "language_info": {
   "codemirror_mode": {
    "name": "ipython",
    "version": 3
   },
   "file_extension": ".py",
   "mimetype": "text/x-python",
   "name": "python",
   "nbconvert_exporter": "python",
   "pygments_lexer": "ipython3",
   "version": "3.11.4"
  }
 },
 "nbformat": 4,
 "nbformat_minor": 2
}
